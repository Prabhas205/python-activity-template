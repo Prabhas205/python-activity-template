{
 "cells": [
  {
   "cell_type": "markdown",
   "metadata": {},
   "source": [
    "### Exercise 1: Basic Arithmetic Operations"
   ]
  },
  {
   "cell_type": "code",
   "execution_count": 1,
   "metadata": {},
   "outputs": [
    {
     "name": "stdout",
     "output_type": "stream",
     "text": [
      "45\n"
     ]
    }
   ],
   "source": [
    "# TODO: Calculate the sum of 15 and 30 and print the result\n",
    "result = 15 + 30\n",
    "print(result)"
   ]
  },
  {
   "cell_type": "markdown",
   "metadata": {},
   "source": [
    "### Exercise 2: String Manipulation"
   ]
  },
  {
   "cell_type": "code",
   "execution_count": null,
   "metadata": {},
   "outputs": [],
   "source": [
    "# TODO: Convert the string \"hello world\" to uppercase\n",
    "string = \"hello world\"\n",
    "uppercase_string = string.upper()\n",
    "print(\"Uppercase String:\", uppercase_string)"
   ]
  },
  {
   "cell_type": "markdown",
   "metadata": {},
   "source": [
    "### Exercise 3: List Operations"
   ]
  },
  {
   "cell_type": "code",
   "execution_count": null,
   "metadata": {},
   "outputs": [],
   "source": [
    "# TODO: Append the number 10 to the list and print the updated list\n",
    "numbers = [1, 2, 3, 4, 5]\n",
    "numbers.append(10)\n",
    "print(\"Updated List:\", numbers)"
   ]
  },
  {
   "cell_type": "markdown",
   "metadata": {},
   "source": [
    "### Exercise 4: Dictionary Operations"
   ]
  },
  {
   "cell_type": "code",
   "execution_count": 5,
   "metadata": {},
   "outputs": [
    {
     "name": "stdout",
     "output_type": "stream",
     "text": [
      "Updated Dictionary: {'name': 'Alice', 'city': 'Wonderland', 'age': 25}\n"
     ]
    }
   ],
   "source": [
    "# TODO: Add a new key-value pair ('age': 25) to the dictionary and print the updated dictionary\n",
    "person = {'name': 'Alice', 'city': 'Wonderland'}\n",
    "person['age'] = 25\n",
    "print(\"Updated Dictionary:\", person)"
   ]
  },
  {
   "cell_type": "markdown",
   "metadata": {},
   "source": [
    "### Exercise 5: Loop through a list"
   ]
  },
  {
   "cell_type": "code",
   "execution_count": 6,
   "metadata": {},
   "outputs": [
    {
     "name": "stdout",
     "output_type": "stream",
     "text": [
      "Fruit: apple\n",
      "Fruit: banana\n",
      "Fruit: cherry\n"
     ]
    }
   ],
   "source": [
    "# TODO: Print each element in the list using a for loop\n",
    "fruits = ['apple', 'banana', 'cherry']\n",
    "for i in fruits:\n",
    "    print(\"Fruit:\",i)"
   ]
  },
  {
   "cell_type": "markdown",
   "metadata": {},
   "source": [
    "### Exercise 6: Conditional Statements"
   ]
  },
  {
   "cell_type": "code",
   "execution_count": null,
   "metadata": {},
   "outputs": [
    {
     "name": "stdout",
     "output_type": "stream",
     "text": [
      "The number is odd\n"
     ]
    }
   ],
   "source": [
    "# TODO: Check if the number is even or odd and print the result\n",
    "number =  int(input(\"Enter a number: \"))\n",
    "if number % 2 == 0:\n",
    "    print(\"The number is even\")\n",
    "else:\n",
    "    print(\"The number is odd\")"
   ]
  },
  {
   "cell_type": "markdown",
   "metadata": {},
   "source": [
    "### Exercise 7: Function Definition"
   ]
  },
  {
   "cell_type": "code",
   "execution_count": 9,
   "metadata": {},
   "outputs": [
    {
     "name": "stdout",
     "output_type": "stream",
     "text": [
      "Product: 42\n"
     ]
    }
   ],
   "source": [
    "# TODO: Define a function that takes two numbers and returns their product\n",
    "def multiply(a, b):\n",
    "    return a * b\n",
    "\n",
    "# Test the function\n",
    "result = multiply(6, 7)\n",
    "print(\"Product:\", result)"
   ]
  },
  {
   "cell_type": "markdown",
   "metadata": {},
   "source": [
    "### Exercise 8: File Handling"
   ]
  },
  {
   "cell_type": "code",
   "execution_count": 10,
   "metadata": {},
   "outputs": [
    {
     "name": "stdout",
     "output_type": "stream",
     "text": [
      "File Content: Hello, this is a test file.\n"
     ]
    }
   ],
   "source": [
    "# TODO: Write a string to a file and then read it back\n",
    "file_path = 'example.txt'\n",
    "# Write the string \"Hello, this is a test file.\" to the file\n",
    "with open(file_path, 'w') as file:\n",
    "    file.write(\"Hello, this is a test file.\")\n",
    "    file.close()\n",
    "\n",
    "# Read the content of the file and print it\n",
    "with open(file_path, 'r') as file:\n",
    "    content = file.read()\n",
    "    print(\"File Content:\", content)\n",
    "    file.close()"
   ]
  },
  {
   "cell_type": "markdown",
   "metadata": {},
   "source": [
    "### Exercise 9: Plotting with Matplotlib"
   ]
  },
  {
   "cell_type": "code",
   "execution_count": 11,
   "metadata": {},
   "outputs": [
    {
     "data": {
      "image/png": "[encoded data removed]",
      "text/plain": [
       "<Figure size 640x480 with 1 Axes>"
      ]
     },
     "metadata": {},
     "output_type": "display_data"
    }
   ],
   "source": [
    "# TODO: Plot a simple line graph using matplotlib\n",
    "import matplotlib.pyplot as plt\n",
    "\n",
    "x = [1, 2, 3, 4, 5]\n",
    "y = [2, 3, 5, 7, 11]\n",
    "\n",
    "# Plot the graph with x and y values\n",
    "plt.plot(x,y)\n",
    "\n",
    "# Set the labels for x-axis and y-axis\n",
    "plt.xlabel('x-label')\n",
    "plt.ylabel(\"y-label\")\n",
    "\n",
    "# Set the title of the graph\n",
    "plt.title('Arithmetic Progression')\n",
    "\n",
    "# Display the graph\n",
    "plt.show()\n"
   ]
  }
 ],
 "metadata": {
  "kernelspec": {
   "display_name": "Python 3",
   "language": "python",
   "name": "python3"
  },
  "language_info": {
   "codemirror_mode": {
    "name": "ipython",
    "version": 3
   },
   "file_extension": ".py",
   "mimetype": "text/x-python",
   "name": "python",
   "nbconvert_exporter": "python",
   "pygments_lexer": "ipython3",
   "version": "3.10.12"
  }
 },
 "nbformat": 4,
 "nbformat_minor": 2
}
