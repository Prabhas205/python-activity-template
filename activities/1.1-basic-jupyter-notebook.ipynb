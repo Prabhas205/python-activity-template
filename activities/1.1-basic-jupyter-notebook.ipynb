{
 "cells": [
  {
   "cell_type": "code",
   "execution_count": null,
   "id": "edd5d69a",
   "metadata": {},
   "outputs": [],
   "source": [
    "Calculate the sum of 15 and 30 and print the result\n"
   ]
  },
  {
   "cell_type": "code",
   "execution_count": 1,
   "id": "fd1adff9",
   "metadata": {},
   "outputs": [
    {
     "name": "stdout",
     "output_type": "stream",
     "text": [
      "The sum of 15 and 30 is: 45\n"
     ]
    }
   ],
   "source": [
    "a = 15\n",
    "b = 30\n",
    "result = a + b\n",
    "print(\"The sum of\", a, \"and\", b, \"is:\", result)"
   ]
  },
  {
   "cell_type": "code",
   "execution_count": null,
   "id": "0131f79e",
   "metadata": {},
   "outputs": [],
   "source": []
  }
 ],
 "metadata": {
  "kernelspec": {
   "display_name": "Python 3",
   "language": "python",
   "name": "python3"
  },
  "language_info": {
   "codemirror_mode": {
    "name": "ipython",
    "version": 3
   },
   "file_extension": ".py",
   "mimetype": "text/x-python",
   "name": "python",
   "nbconvert_exporter": "python",
   "pygments_lexer": "ipython3",
   "version": "3.10.12"
  }
 },
 "nbformat": 4,
 "nbformat_minor": 5
}
